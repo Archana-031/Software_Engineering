{
  "nbformat": 4,
  "nbformat_minor": 0,
  "metadata": {
    "colab": {
      "provenance": [],
      "authorship_tag": "ABX9TyOhrwgAv1krK/80qMBYmuEy",
      "include_colab_link": true
    },
    "kernelspec": {
      "name": "python3",
      "display_name": "Python 3"
    },
    "language_info": {
      "name": "python"
    }
  },
  "cells": [
    {
      "cell_type": "markdown",
      "metadata": {
        "id": "view-in-github",
        "colab_type": "text"
      },
      "source": [
        "<a href=\"https://colab.research.google.com/github/Archana-031/Weather_Modeling/blob/main/SE_Lab_2.ipynb\" target=\"_parent\"><img src=\"https://colab.research.google.com/assets/colab-badge.svg\" alt=\"Open In Colab\"/></a>"
      ]
    },
    {
      "cell_type": "markdown",
      "source": [
        "# 1.\tImplement weather modeling* using the quadratic solution in stages: hard-coding variables keyboard input, read from a file, for a **single** set of input, multiple sets of inputs."
      ],
      "metadata": {
        "id": "_jTtoN38JfQl"
      }
    },
    {
      "cell_type": "markdown",
      "source": [
        "# 1.1 Hardcoding Variables"
      ],
      "metadata": {
        "id": "wX1k4vd4KyE8"
      }
    },
    {
      "cell_type": "code",
      "source": [
        "def Temperature_modeling(a, b, c, time):\n",
        "  temperature = a*time**2 + b*time + c\n",
        "  return temperature"
      ],
      "metadata": {
        "id": "pBipKqesJXkW"
      },
      "execution_count": null,
      "outputs": []
    },
    {
      "cell_type": "code",
      "source": [
        "#Hardcoded variables\n",
        "a, b, c=0.1, 2, 10\n",
        "time=5"
      ],
      "metadata": {
        "id": "4yYj5tEjJi9V"
      },
      "execution_count": null,
      "outputs": []
    },
    {
      "cell_type": "code",
      "source": [
        "#display results\n",
        "print(\"Hard-coded variables for weather modeling\")\n",
        "print(\"Temperature for hardcoded coefficients at time\",time,\"hours:\",Temperature_modeling(a,b,c,time))"
      ],
      "metadata": {
        "colab": {
          "base_uri": "https://localhost:8080/"
        },
        "id": "QiTT8EcAJ1ld",
        "outputId": "2e3ccd75-6c04-404a-f672-894dc00d8b34"
      },
      "execution_count": null,
      "outputs": [
        {
          "output_type": "stream",
          "name": "stdout",
          "text": [
            "Hard-coded variables for weather modeling\n",
            "Temperature for hardcoded coefficients at time 5 hours: 22.5\n"
          ]
        }
      ]
    },
    {
      "cell_type": "markdown",
      "source": [
        "## 1.2 Accepting variables via keyboard input"
      ],
      "metadata": {
        "id": "K6EkfCKLLFnG"
      }
    },
    {
      "cell_type": "code",
      "source": [
        "a=float(input(\"Enter coefficient a: \"))\n",
        "b=float(input(\"Enter coefficient b: \"))\n",
        "c=float(input(\"Enter coefficient c: \"))\n",
        "time=float(input(\"Enter time: \"))"
      ],
      "metadata": {
        "colab": {
          "base_uri": "https://localhost:8080/"
        },
        "id": "Uq8Ni2FSLMsZ",
        "outputId": "8d0f1052-7877-4839-a227-ad39d638d3f5"
      },
      "execution_count": null,
      "outputs": [
        {
          "name": "stdout",
          "output_type": "stream",
          "text": [
            "Enter coefficient a: 0.1\n",
            "Enter coefficient b: 3\n",
            "Enter coefficient c: 10\n",
            "Enter time: 4\n"
          ]
        }
      ]
    },
    {
      "cell_type": "code",
      "source": [
        "#variables read from keyboard\n",
        "print(\"Hard-coded variables for weather modeling\")\n",
        "print(\"Temperature for hardcoded coefficients at time\",time,\"hours:\",Temperature_modeling(a,b,c,time))"
      ],
      "metadata": {
        "colab": {
          "base_uri": "https://localhost:8080/"
        },
        "id": "XetyzlclLxIY",
        "outputId": "dc251cd4-1972-4ce2-da1e-0e67f005f50a"
      },
      "execution_count": null,
      "outputs": [
        {
          "output_type": "stream",
          "name": "stdout",
          "text": [
            "Hard-coded variables for weather modeling\n",
            "Temperature for hardcoded coefficients at time 4.0 hours: 23.6\n"
          ]
        }
      ]
    },
    {
      "cell_type": "markdown",
      "source": [
        "# 1.3\tReading Variables from a File"
      ],
      "metadata": {
        "id": "fRYoOjlGMDtE"
      }
    },
    {
      "cell_type": "code",
      "source": [
        "#Read coefficients from a File\n",
        "def read_from_file(filename):\n",
        "  with open(filename, 'r') as file:\n",
        "    lines = file.readlines()\n",
        "    coefficients = [tuple(map(float, line.strip().split(','))) for line in lines]\n",
        "  return coefficients"
      ],
      "metadata": {
        "id": "Z_EBW7dhMIM0"
      },
      "execution_count": null,
      "outputs": []
    },
    {
      "cell_type": "markdown",
      "source": [
        "# 1.4\tProcessing a single set of inputs."
      ],
      "metadata": {
        "id": "B5cvPggFOlaL"
      }
    },
    {
      "cell_type": "code",
      "source": [
        "# Example: Processing a single set of inputs.\n",
        "coefficients = read_from_file('/content/coefficients.txt')\n",
        "a, b, c, time = coefficients[0]\n",
        "temperature = Temperature_modeling(a, b, c, time)\n",
        "print(\"read from a file for weather modeling\")\n",
        "print(\"Temperature for hardcoded coefficients at time\",time,\"hours:\",Temperature_modeling(a,b,c,time))"
      ],
      "metadata": {
        "id": "UQ-4UCzmOoqa",
        "colab": {
          "base_uri": "https://localhost:8080/"
        },
        "outputId": "444da62c-e7e2-4641-e54e-89606dc38820"
      },
      "execution_count": null,
      "outputs": [
        {
          "output_type": "stream",
          "name": "stdout",
          "text": [
            "read from a file for weather modeling\n",
            "Temperature for hardcoded coefficients at time 2.7 hours: 21.391000000000005\n"
          ]
        }
      ]
    },
    {
      "cell_type": "markdown",
      "source": [
        "# 1.5.\tProcessing multiple sets of inputs"
      ],
      "metadata": {
        "id": "6reDz6AWRLiu"
      }
    },
    {
      "cell_type": "code",
      "source": [
        "#Solve for all sets in the file\n",
        "for idx, (a, b, c, time) in enumerate(coefficients):\n",
        "  temperature = Temperature_modeling(a, b, c, time)\n",
        "  print(\"Temperature for hardcoded coefficients at time\",time,\"hours:\",Temperature_modeling(a,b,c,time))"
      ],
      "metadata": {
        "colab": {
          "base_uri": "https://localhost:8080/"
        },
        "id": "iXiZE-RHRSp-",
        "outputId": "c03cff42-cbfb-488d-f24c-80581659a068"
      },
      "execution_count": null,
      "outputs": [
        {
          "output_type": "stream",
          "name": "stdout",
          "text": [
            "Temperature for hardcoded coefficients at time 2.7 hours: 21.391000000000005\n",
            "Temperature for hardcoded coefficients at time 6.8 hours: 161.248\n"
          ]
        }
      ]
    }
  ]
}